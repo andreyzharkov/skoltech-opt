{
 "cells": [
  {
   "cell_type": "markdown",
   "metadata": {},
   "source": [
    "# Problem 1\n",
    "\n",
    "Find (Lagrange) dual problems for the following ones. In which cases you have strong duality and why?\n",
    "\n",
    "#### a)What is the solution of this problem?\n",
    "\n",
    "\\begin{equation*}\n",
    "\\begin{aligned}\n",
    "& \\underset{x}{\\text{minimize}}\n",
    "& & ||x-2|| \\\\\n",
    "& \\text{subject to}\n",
    "& & ||x||_* \\leq 1\n",
    "\\end{aligned}\n",
    "\\end{equation*}"
   ]
  },
  {
   "cell_type": "markdown",
   "metadata": {},
   "source": [
    "#### Solution\n",
    "\n",
    "$$L = ||x-2|| + \\lambda (||x||_* - 1)$$\n",
    "\n",
    "if we fix $||x||$ from all $x$ with such norm dual norms $||x||_*$ are the same and the $x$ wich minimizes $||x-2||$ must be collinear with 2. So we can represent $x=\\alpha 2$ for some $\\alpha \\in [0, \\frac{1}{||2||_*}]$\n",
    "\n",
    "$$L = |\\alpha - 1| ||2|| + \\lambda \\alpha ||2||_* - \\lambda$$\n",
    "\n",
    "the function is monotonic in alpha, so $$inf_{x} L = inf_{\\alpha} L = min(||2|| - \\lambda, |1 - \\frac{1}{||2||_*}| ||2||)$$\n",
    "\n",
    "so the dual is\n",
    "\n",
    "\\begin{equation*}\n",
    "\\begin{aligned}\n",
    "& \\underset{\\lambda}{\\text{maximize}}\n",
    "& & min(||2|| - \\lambda, (|1 - \\frac{1}{||2||_*}|) ||2||) \\\\\n",
    "& \\text{subject to}\n",
    "& & \\lambda \\geq 0\n",
    "\\end{aligned}\n",
    "\\end{equation*}\n",
    "\n",
    "the solution is $x^* = \\frac{2}{||2||_*}$ with optimal value $f(x^*)=min(||2||, (|1 - \\frac{1}{||2||_*}|) ||2||)$ (in case of l2 it will be just 1$"
   ]
  },
  {
   "cell_type": "markdown",
   "metadata": {},
   "source": [
    "#### b)\n",
    "\n",
    "\\begin{equation*}\n",
    "\\begin{aligned}\n",
    "& \\underset{x}{\\text{minimize}}\n",
    "& & \\Sigma (x_i log(x_i / y_i)) \\\\\n",
    "& \\text{subject to}\n",
    "& & Ax=b \\\\\n",
    "& & & 1^T x = 1 \\\\\n",
    "& & & x > 0\n",
    "\\end{aligned}\n",
    "\\end{equation*}"
   ]
  },
  {
   "cell_type": "markdown",
   "metadata": {},
   "source": [
    "#### Solution\n",
    "\n",
    "$$L=x_i log(x_i) - \\Sigma x_i log(x_i) + \\lambda^T x + \\mu^T(Ax-b) + \\mu_0(1^T x - 1) = \\Sigma x_i log x_i + \\left( -\\lambda^T + \\mu^TA + \\mu_0 1^T - log(y)^T \\right) x - \\mu^T b - \\mu_0 = \\Sigma x_i log(x_i) + c^T x + d$$\n",
    "\n",
    "$$\\frac{dL}{dx_i} = log(x_i) + 1 + c_i = 0$$\n",
    "$$x_i^* = exp(-1 - c_i)$$\n",
    "$$x^* = exp(-1 - c)$$\n",
    "\n",
    "$$L(x^*(\\lambda, \\mu, \\mu_0), \\lambda, \\mu, \\mu_0) = (log(exp(-c-1))+c)exp(-c-1) + d = -1^Texp(-c-1) + d$$\n",
    "\n",
    "So the dual is \n",
    "\n",
    "\\begin{equation*}\n",
    "\\begin{aligned}\n",
    "& \\underset{\\lambda, \\mu, \\mu_0}{\\text{maximize}}\n",
    "& & -1^Texp(-c-1) + d \\\\\n",
    "& \\text{subject to}\n",
    "& & \\lambda \\geq 0\n",
    "\\end{aligned}\n",
    "\\end{equation*}\n",
    "\n",
    "everywhere above $c = -\\lambda + A^T \\mu + \\mu_0 \\mathbf{1} - log(y)$, $d=-\\mu^Tb-\\mu_0$"
   ]
  },
  {
   "cell_type": "markdown",
   "metadata": {},
   "source": [
    "#### c)\n",
    "\n",
    "\\begin{equation*}\n",
    "\\begin{aligned}\n",
    "& \\underset{x}{\\text{minimize}}\n",
    "& & \\Sigma \\phi(x_i) \\\\\n",
    "& \\text{subject to}\n",
    "& & Ax=b \\\\\n",
    "& & & -c \\leq x \\leq c\n",
    "\\end{aligned}\n",
    "\\end{equation*}\n",
    "\n",
    "As soon as domain of $\\phi(u) = \\frac{|u|}{c-|u|}$ is $[-c, c]$ **I added additional constraint $-c \\leq x \\leq c$**\n",
    "\n",
    "$$L=\\Sigma \\phi(x_i) + \\lambda_1^T(x-c) + \\lambda_2^T(-x+c) + \\mu^T(Ax-b) = \\Sigma \\phi(x_i) + (\\lambda_1 - \\lambda_2 + A^T \\mu)^T x + (-\\lambda_1^Tc + \\lambda_2^T c - \\mu^T b) = \\Sigma \\phi(x_i) + \\alpha^T x + \\beta$$\n",
    "\n",
    "$$\\frac{dL}{dx_i} = \\frac{sign(x_i)(c-|x_i|)+|x_i|sign(x_i)}{(c-x_i)^2}+\\alpha_i = 0$$\n",
    "\n",
    "$$\\frac{csign(x_i)}{(c-|x_i|)^2}=-\\alpha_i$$\n",
    "\n",
    "from the equation above we can derive that $sign(x_i)=-sign(\\alpha_i)$ and $|x_i|=c-\\sqrt{\\frac{c}{|\\alpha_i|}}$ so $x_i=(\\sqrt{\\frac{c}{\\alpha_i}}-c)sign(\\alpha_i)$\n",
    "\n",
    "I will write dual using $$x_i(\\alpha_i, c) = (\\sqrt{\\frac{c}{\\alpha_i}}-c)sign(\\alpha_i)$$ $$x=(\\sqrt{\\frac{c}{\\alpha}}-c)sign(\\alpha)$$ $$\\alpha = \\lambda_1 - \\lambda_2 + A^T \\mu$$ $$\\beta = c1^T(-\\lambda_1 + \\lambda_2) - \\mu^T b$$\n",
    "\n",
    "Finally the dual is\n",
    "\n",
    "\\begin{equation*}\n",
    "\\begin{aligned}\n",
    "& \\underset{\\lambda_1, \\lambda_2, \\mu}{\\text{maximize}}\n",
    "& & \\Sigma \\phi(x_i) + \\alpha^T x + \\beta \\\\\n",
    "& \\text{subject to}\n",
    "& & \\lambda > 0\n",
    "\\end{aligned}\n",
    "\\end{equation*}"
   ]
  },
  {
   "cell_type": "markdown",
   "metadata": {},
   "source": [
    "For problems (a), (b) Slater's conditions holds so there is strong duality"
   ]
  },
  {
   "cell_type": "code",
   "execution_count": null,
   "metadata": {},
   "outputs": [],
   "source": []
  },
  {
   "cell_type": "markdown",
   "metadata": {},
   "source": [
    "# Problem 3"
   ]
  },
  {
   "cell_type": "markdown",
   "metadata": {},
   "source": [
    "\\begin{equation*}\n",
    "\\begin{aligned}\n",
    "& \\underset{x}{\\text{min }} \\Sigma (1 - a_i^T x)_+ + \\frac{N\\lambda}{2}||x||_2^2\n",
    "\\end{aligned}\n",
    "\\end{equation*}\n",
    "\n",
    "$x \\in R^n$, $(t)_+ = max(t, 0$, "
   ]
  },
  {
   "cell_type": "markdown",
   "metadata": {},
   "source": [
    "#### a) Introducing variables $x(i) \\in R^n$  for $i=1,2,\\dots,N$ (and associated variables $y(i)$) with central variable $z=x(i)$ write an augmented Lagrangian\n",
    "\n",
    "$$L_{\\rho} = \\sum\\limits_{i=1}^{N}((1-a^Tx(i))_+ + y(i)^T (x_i - z) + \\frac{\\rho}{2}||x-z||_2^2) +\\frac{N\\lambda}{2}||z||_2^2$$"
   ]
  },
  {
   "cell_type": "markdown",
   "metadata": {},
   "source": [
    "#### b) updates\n",
    "\n",
    "\\begin{equation*}\n",
    "\\begin{aligned}\n",
    "& x(i)_{k+1} = \\underset{x}{\\text{argmin }} L_{\\rho}(x, z_k, y_k) \\\\\n",
    "& z_{k+1} = \\underset{z}{\\text{argmin }} L_{\\rho}(x(i)_{k+1}, z, y_k) \\\\\n",
    "& y(i)_{k+1} = y(i)_{k} + \\rho (x(i)_{k+1}-z_{k+1})\n",
    "\\end{aligned}\n",
    "\\end{equation*}\n",
    "\n",
    "Because of relu things are a little bit more difficult for $x(i)_{k+1}$ update. $\\frac{dL_{\\rho}}{dx} = y(i) + \\rho (x-z) + a_i I(1-a_i^Tx\\geq 0) = 0$ So we have 2 possible minimal points and I believe it will be easier to just check which of them is less. $x(i)(1) = z-\\frac{y(i)}{\\rho}$, $x(i)(2)=z-\\frac{y(i)-a_i}{\\rho}$, and $$x(i)_{k+1} = \\underset{x \\in \\{x(i)(1), x(i)(2)\\}}{\\text{argmin }} ((1-a_i^Tx)_+ + y(i)^T(x-z)+\\frac{\\rho}{2}||x-z||_2^2)$$\n",
    "\n",
    "For $z$ $$\\frac{dL_{\\rho}}{dz} = -\\Sigma y(i) + \\rho \\Sigma (z-x(i)) + N\\lambda z = 0$$\n",
    "\n",
    "$$z_{k+1} = \\frac{\\sum\\limits_{i=1}^{N}(\\rho x(i)_{k+1} + y(i)_{k})}{N(\\lambda+\\rho)}$$"
   ]
  },
  {
   "cell_type": "markdown",
   "metadata": {},
   "source": []
  },
  {
   "cell_type": "code",
   "execution_count": 28,
   "metadata": {},
   "outputs": [
    {
     "name": "stdout",
     "output_type": "stream",
     "text": [
      "(25, 20)\n"
     ]
    }
   ],
   "source": [
    "import pandas as pd\n",
    "import numpy as np\n",
    "import matplotlib.pyplot as plt\n",
    "%matplotlib inline\n",
    "\n",
    "# data from Ivan Zorin\n",
    "data = pd.read_csv('data.csv', header=None)\n",
    "A = np.array(data)\n",
    "lambdda = .5\n",
    "N = 25\n",
    "print(A.shape)"
   ]
  },
  {
   "cell_type": "code",
   "execution_count": 29,
   "metadata": {},
   "outputs": [
    {
     "name": "stdout",
     "output_type": "stream",
     "text": [
      "Optimal value from CVXPY [10.50195589]\n",
      "Best x [[-0.03896709]\n",
      " [-0.36960498]\n",
      " [ 0.27602321]\n",
      " [ 0.07005702]\n",
      " [ 0.1168093 ]\n",
      " [ 0.04328308]\n",
      " [-0.04489537]\n",
      " [ 0.38910251]\n",
      " [-0.0495375 ]\n",
      " [ 0.13688304]\n",
      " [-0.01595086]\n",
      " [ 0.25805152]\n",
      " [ 0.25868505]\n",
      " [ 0.13608983]\n",
      " [ 0.16773364]\n",
      " [ 0.32775658]\n",
      " [-0.27594657]\n",
      " [ 0.07904575]\n",
      " [ 0.04890716]\n",
      " [-0.15740708]]\n"
     ]
    }
   ],
   "source": [
    "import cvxpy\n",
    "np.random.seed(0)\n",
    "\n",
    "# Initialize data.\n",
    "MAX_ITERS = 10\n",
    "rho = 1.0\n",
    "n = 20\n",
    "\n",
    "# Initialize problem.\n",
    "x = cvxpy.Variable(shape=(n,1))\n",
    "f = cvxpy.sum([cvxpy.maximum(0, 1 - A[i] * x) for i in range(A.shape[0])]) + N * lambdda / 2 * cvxpy.norm(x, 2)\n",
    "\n",
    "# Solve with CVXPY.\n",
    "problem = cvxpy.Problem(cvxpy.Minimize(f))\n",
    "problem.solve()\n",
    "print(\"Optimal value from CVXPY\", f.value)\n",
    "print(\"Best x\", x.value)\n",
    "cvx_f_min = f.value[0]\n",
    "cvx_x_best = x.value.reshape((-1,))"
   ]
  },
  {
   "cell_type": "code",
   "execution_count": 34,
   "metadata": {},
   "outputs": [
    {
     "data": {
      "text/plain": [
       "(25, 20)"
      ]
     },
     "execution_count": 34,
     "metadata": {},
     "output_type": "execute_result"
    }
   ],
   "source": [
    "A.shape"
   ]
  },
  {
   "cell_type": "code",
   "execution_count": 39,
   "metadata": {},
   "outputs": [
    {
     "data": {
      "text/plain": [
       "array([[1., 0.],\n",
       "       [0., 0.]])"
      ]
     },
     "execution_count": 39,
     "metadata": {},
     "output_type": "execute_result"
    }
   ],
   "source": [
    "np.eye(2) * np.array([[1, 0]])"
   ]
  },
  {
   "cell_type": "code",
   "execution_count": null,
   "metadata": {},
   "outputs": [],
   "source": []
  },
  {
   "cell_type": "code",
   "execution_count": 74,
   "metadata": {},
   "outputs": [],
   "source": [
    "def f(x):\n",
    "    return np.sum(np.maximum(1 - A.dot(x), 0)) + N * lambdda / 2 * np.linalg.norm(x) ** 2\n",
    "\n",
    "def grad_f(x):\n",
    "    grad = N * lambdda * x\n",
    "    need_sum = np.maximum(1 - A.dot(x), 0).reshape((N, 1))\n",
    "    grad += -np.sum(A * need_sum, axis=0)\n",
    "    return grad\n",
    "\n",
    "def step_pSGD(k):\n",
    "    return 1 / N / lambdda / k\n",
    "\n",
    "def next_pSGD(x_k, g_k, step_size):\n",
    "    x_next = x_k - g_k * step_size\n",
    "    # projection on ball ||x|| <= sqrt(2/lambda)\n",
    "    if np.linalg.norm(x_next) >= np.sqrt(2 / lambdda):\n",
    "        x_next = x_next / np.linalg.norm(x_next) * np.sqrt(2 / lambdda)\n",
    "    return x_next\n",
    "\n",
    "rho = 3\n",
    "def next_ADMM(x_k, z_k, y_k):\n",
    "    # first x_k\n",
    "    x_next = np.zeros_like(x_k)\n",
    "    for i in range(N):\n",
    "        x1 = z_k - y_k[i] / rho\n",
    "        x2 = z_k - (y_k[i] - A[i]) / rho\n",
    "#         mu = (-y_k[i].T.dot(A[i]) + rho * (A[i].dot(z_k) - 1)) / A[i].dot(A[i])\n",
    "#         x_best = z_k - y_k[i] / rho + mu * A[i] / rho\n",
    "#         if 1 - A[i].dot(x1) <= 0:\n",
    "#             print(f'i={i},zero')\n",
    "#             x_next[i] = x1\n",
    "#         elif 1 - A[i].dot(x2) >= 0:\n",
    "#             print(f'i={i},nonzero')\n",
    "#             x_next[i] = x2\n",
    "#         else:\n",
    "#             print(f'i={i},pizda')\n",
    "#             x_next[i] = x_best\n",
    "        \n",
    "        x_next[i] = x2\n",
    "        if 1 - A[i].dot(x_k[i]) <= 0:\n",
    "            x_next[i] = x1\n",
    "#         f_i = lambda x: max(0, 1 - A[i].dot(x)) + y_k[i].dot(x-z_k) + rho / 2 * np.linalg.norm(x-z_k) ** 2\n",
    "#         x_next[i] = x1 if f_i(x1) < f_i(x2) else x2\n",
    "    z_next = (rho * np.sum(x_next, axis=0) + np.sum(y_k, axis=0)) / N / (lambdda + rho)\n",
    "    y_next = np.array([y_k[i] + rho * (x_next[i] - z_next) for i in range(len(y_k))])\n",
    "    return x_next, z_next, y_next\n",
    "\n",
    "def solve(x0, method='pSGD', maxiter=200):\n",
    "    z = x = x0\n",
    "    x_k = y_k = np.zeros_like(A)\n",
    "    \n",
    "    all_x = [x]\n",
    "    all_f = [f(x)]\n",
    "    \n",
    "    for i in range(1, maxiter+1):\n",
    "        if method == 'pSGD':\n",
    "            step_size = step_pSGD(i)\n",
    "            x = next_pSGD(x, grad_f(x), step_size)\n",
    "            all_x.append(x)\n",
    "            all_f.append(f(x))\n",
    "#             all_f.append(min(all_f[-1], f(x)))\n",
    "        elif method == 'ADMM':\n",
    "            x_k, z, y_k = next_ADMM(x_k, z, y_k)\n",
    "            all_x.append(z)\n",
    "            all_f.append(f(z))\n",
    "#             all_f.append(min(all_f[-1], f(z)))\n",
    "            \n",
    "    return all_f[-1], (np.array(all_x), np.array(all_f))"
   ]
  },
  {
   "cell_type": "code",
   "execution_count": 75,
   "metadata": {},
   "outputs": [
    {
     "name": "stdout",
     "output_type": "stream",
     "text": [
      "min_pSGD=11.111090888205181\n",
      "min_ADMM=11.022072070787766\n"
     ]
    },
    {
     "data": {
      "text/plain": [
       "<matplotlib.legend.Legend at 0xb18f4d0f0>"
      ]
     },
     "execution_count": 75,
     "metadata": {},
     "output_type": "execute_result"
    },
    {
     "data": {
      "image/png": "[encoded data removed]",
      "text/plain": [
       "<Figure size 1080x720 with 1 Axes>"
      ]
     },
     "metadata": {},
     "output_type": "display_data"
    }
   ],
   "source": [
    "plt.figure(figsize=(15,10))\n",
    "for method in ['pSGD', 'ADMM']:\n",
    "    x0 = np.zeros(shape=(A.shape[1],))\n",
    "#     x0 = cvx_x_best\n",
    "    best_f, (all_x, all_f) = solve(x0, method=method)\n",
    "    print(f'min_{method}={min(all_f)}')\n",
    "    plt.plot(all_f - cvx_f_min, label=method)\n",
    "plt.title('Comparation of methods')\n",
    "plt.xlabel('iteration')\n",
    "plt.ylabel('f-f^*')\n",
    "# plt.xlim((0,15))\n",
    "plt.legend(loc='best')"
   ]
  },
  {
   "cell_type": "code",
   "execution_count": null,
   "metadata": {},
   "outputs": [],
   "source": []
  }
 ],
 "metadata": {
  "kernelspec": {
   "display_name": "Python 3",
   "language": "python",
   "name": "python3"
  },
  "language_info": {
   "codemirror_mode": {
    "name": "ipython",
    "version": 3
   },
   "file_extension": ".py",
   "mimetype": "text/x-python",
   "name": "python",
   "nbconvert_exporter": "python",
   "pygments_lexer": "ipython3",
   "version": "3.6.5"
  }
 },
 "nbformat": 4,
 "nbformat_minor": 2
}
